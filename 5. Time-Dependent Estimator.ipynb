{
 "cells": [
  {
   "cell_type": "markdown",
   "metadata": {
    "slideshow": {
     "slide_type": "slide"
    }
   },
   "source": [
    "# A Time-Dependent Estimator"
   ]
  },
  {
   "cell_type": "markdown",
   "metadata": {},
   "source": [
    "## Obtain the Dataset\n",
    "\n",
    "If we have note yet fetched the dataset from the previous notebooks, we need to do it now:"
   ]
  },
  {
   "cell_type": "code",
   "execution_count": 1,
   "metadata": {},
   "outputs": [
    {
     "name": "stdout",
     "output_type": "stream",
     "text": [
      "wget: missing URL\n",
      "Usage: wget [OPTION]... [URL]...\n",
      "\n",
      "Try `wget --help' for more options.\n",
      "Archive:  data.zip\n",
      "  inflating: data/nab/labels/combined_windows.json  \n",
      "  inflating: data/nab/labels/combined_windows_tiny.json  \n",
      "  inflating: data/nab/labels/combined_labels.json  \n",
      "  inflating: data/nab/labels/raw/known_labels_v1.0.json  \n",
      "  inflating: data/nab/labels/raw/CB_labels_v1.0.json  \n",
      "  inflating: data/nab/labels/raw/CB_labels_v0.8.json  \n",
      "  inflating: data/nab/labels/raw/AL_labels_v1.0.json  \n",
      "  inflating: data/nab/labels/raw/AL_labels_v0.8.json  \n",
      "  inflating: data/nab/labels/raw/SA_labels_v0.8.json  \n",
      "  inflating: data/nab/labels/raw/SA_labels_v1.0.json  \n",
      "  inflating: data/nab/data/realAWSCloudwatch/ec2_cpu_utilization_825cc2.csv  \n",
      "  inflating: data/nab/data/realAWSCloudwatch/._ec2_cpu_utilization_825cc2.csv  \n",
      "  inflating: data/nab/data/realAWSCloudwatch/ec2_network_in_257a54.csv  \n",
      "  inflating: data/nab/data/realAWSCloudwatch/._ec2_network_in_257a54.csv  \n",
      "  inflating: data/nab/data/realAWSCloudwatch/ec2_cpu_utilization_c6585a.csv  \n",
      "  inflating: data/nab/data/realAWSCloudwatch/._ec2_cpu_utilization_c6585a.csv  \n",
      "  inflating: data/nab/data/realAWSCloudwatch/rds_cpu_utilization_cc0c53.csv  \n",
      "  inflating: data/nab/data/realAWSCloudwatch/._rds_cpu_utilization_cc0c53.csv  \n",
      "  inflating: data/nab/data/realAWSCloudwatch/ec2_cpu_utilization_5f5533.csv  \n",
      "  inflating: data/nab/data/realAWSCloudwatch/._ec2_cpu_utilization_5f5533.csv  \n",
      "  inflating: data/nab/data/realAWSCloudwatch/ec2_disk_write_bytes_c0d644.csv  \n",
      "  inflating: data/nab/data/realAWSCloudwatch/._ec2_disk_write_bytes_c0d644.csv  \n",
      "  inflating: data/nab/data/realAWSCloudwatch/rds_cpu_utilization_e47b3b.csv  \n",
      "  inflating: data/nab/data/realAWSCloudwatch/._rds_cpu_utilization_e47b3b.csv  \n",
      "  inflating: data/nab/data/realAWSCloudwatch/ec2_network_in_5abac7.csv  \n",
      "  inflating: data/nab/data/realAWSCloudwatch/._ec2_network_in_5abac7.csv  \n",
      "  inflating: data/nab/data/realAWSCloudwatch/ec2_cpu_utilization_ac20cd.csv  \n",
      "  inflating: data/nab/data/realAWSCloudwatch/._ec2_cpu_utilization_ac20cd.csv  \n",
      "  inflating: data/nab/data/realAWSCloudwatch/elb_request_count_8c0756.csv  \n",
      "  inflating: data/nab/data/realAWSCloudwatch/._elb_request_count_8c0756.csv  \n",
      "  inflating: data/nab/data/realAWSCloudwatch/ec2_cpu_utilization_24ae8d.csv  \n",
      "  inflating: data/nab/data/realAWSCloudwatch/._ec2_cpu_utilization_24ae8d.csv  \n",
      "  inflating: data/nab/data/realAWSCloudwatch/ec2_disk_write_bytes_1ef3de.csv  \n",
      "  inflating: data/nab/data/realAWSCloudwatch/._ec2_disk_write_bytes_1ef3de.csv  \n",
      "  inflating: data/nab/data/realAWSCloudwatch/iio_us-east-1_i-a2eb1cd9_NetworkIn.csv  \n",
      "  inflating: data/nab/data/realAWSCloudwatch/._iio_us-east-1_i-a2eb1cd9_NetworkIn.csv  \n",
      "  inflating: data/nab/data/realAWSCloudwatch/ec2_cpu_utilization_53ea38.csv  \n",
      "  inflating: data/nab/data/realAWSCloudwatch/._ec2_cpu_utilization_53ea38.csv  \n",
      "  inflating: data/nab/data/realAWSCloudwatch/ec2_cpu_utilization_77c1ca.csv  \n",
      "  inflating: data/nab/data/realAWSCloudwatch/._ec2_cpu_utilization_77c1ca.csv  \n",
      "  inflating: data/nab/data/realAWSCloudwatch/grok_asg_anomaly.csv  \n",
      "  inflating: data/nab/data/realAWSCloudwatch/._grok_asg_anomaly.csv  \n",
      "  inflating: data/nab/data/realAWSCloudwatch/ec2_cpu_utilization_fe7f93.csv  \n",
      "  inflating: data/nab/data/realAWSCloudwatch/._ec2_cpu_utilization_fe7f93.csv  \n",
      "  inflating: data/nab/data/realTraffic/speed_7578.csv  \n",
      "  inflating: data/nab/data/realTraffic/._speed_7578.csv  \n",
      "  inflating: data/nab/data/realTraffic/TravelTime_387.csv  \n",
      "  inflating: data/nab/data/realTraffic/._TravelTime_387.csv  \n",
      "  inflating: data/nab/data/realTraffic/TravelTime_451.csv  \n",
      "  inflating: data/nab/data/realTraffic/._TravelTime_451.csv  \n",
      "  inflating: data/nab/data/realTraffic/speed_6005.csv  \n",
      "  inflating: data/nab/data/realTraffic/._speed_6005.csv  \n",
      "  inflating: data/nab/data/realTraffic/occupancy_t4013.csv  \n",
      "  inflating: data/nab/data/realTraffic/._occupancy_t4013.csv  \n",
      "  inflating: data/nab/data/realTraffic/occupancy_6005.csv  \n",
      "  inflating: data/nab/data/realTraffic/._occupancy_6005.csv  \n",
      "  inflating: data/nab/data/realTraffic/speed_t4013.csv  \n",
      "  inflating: data/nab/data/realTraffic/._speed_t4013.csv  \n",
      "  inflating: data/nab/data/README.md  \n",
      "  inflating: data/nab/data/realTweets/Twitter_volume_AAPL.csv  \n",
      "  inflating: data/nab/data/realTweets/._Twitter_volume_AAPL.csv  \n",
      "  inflating: data/nab/data/realTweets/Twitter_volume_UPS.csv  \n",
      "  inflating: data/nab/data/realTweets/._Twitter_volume_UPS.csv  \n",
      "  inflating: data/nab/data/realTweets/Twitter_volume_KO.csv  \n",
      "  inflating: data/nab/data/realTweets/._Twitter_volume_KO.csv  \n",
      "  inflating: data/nab/data/realTweets/Twitter_volume_GOOG.csv  \n",
      "  inflating: data/nab/data/realTweets/._Twitter_volume_GOOG.csv  \n",
      "  inflating: data/nab/data/realTweets/Twitter_volume_CVS.csv  \n",
      "  inflating: data/nab/data/realTweets/._Twitter_volume_CVS.csv  \n",
      "  inflating: data/nab/data/realTweets/Twitter_volume_FB.csv  \n",
      "  inflating: data/nab/data/realTweets/._Twitter_volume_FB.csv  \n",
      "  inflating: data/nab/data/realTweets/Twitter_volume_IBM.csv  \n",
      "  inflating: data/nab/data/realTweets/._Twitter_volume_IBM.csv  \n",
      "  inflating: data/nab/data/realTweets/Twitter_volume_CRM.csv  \n",
      "  inflating: data/nab/data/realTweets/._Twitter_volume_CRM.csv  \n",
      "  inflating: data/nab/data/realTweets/Twitter_volume_PFE.csv  \n",
      "  inflating: data/nab/data/realTweets/._Twitter_volume_PFE.csv  \n",
      "  inflating: data/nab/data/realTweets/Twitter_volume_AMZN.csv  \n",
      "  inflating: data/nab/data/realTweets/._Twitter_volume_AMZN.csv  \n",
      "  inflating: data/nab/data/artificialWithAnomaly/art_daily_flatmiddle.csv  \n",
      "  inflating: data/nab/data/artificialWithAnomaly/._art_daily_flatmiddle.csv  \n",
      "  inflating: data/nab/data/artificialWithAnomaly/art_daily_jumpsdown.csv  \n",
      "  inflating: data/nab/data/artificialWithAnomaly/._art_daily_jumpsdown.csv  \n",
      "  inflating: data/nab/data/artificialWithAnomaly/art_daily_jumpsup.csv  \n",
      "  inflating: data/nab/data/artificialWithAnomaly/._art_daily_jumpsup.csv  \n",
      "  inflating: data/nab/data/artificialWithAnomaly/art_load_balancer_spikes.csv  \n",
      "  inflating: data/nab/data/artificialWithAnomaly/._art_load_balancer_spikes.csv  \n",
      "  inflating: data/nab/data/artificialWithAnomaly/art_increase_spike_density.csv  \n",
      "  inflating: data/nab/data/artificialWithAnomaly/._art_increase_spike_density.csv  \n",
      "  inflating: data/nab/data/artificialWithAnomaly/art_daily_nojump.csv  \n",
      "  inflating: data/nab/data/artificialWithAnomaly/._art_daily_nojump.csv  \n",
      "  inflating: data/nab/data/realAdExchange/exchange-3_cpm_results.csv  \n",
      "  inflating: data/nab/data/realAdExchange/._exchange-3_cpm_results.csv  \n",
      "  inflating: data/nab/data/realAdExchange/exchange-4_cpm_results.csv  \n",
      "  inflating: data/nab/data/realAdExchange/._exchange-4_cpm_results.csv  \n",
      "  inflating: data/nab/data/realAdExchange/exchange-2_cpm_results.csv  \n",
      "  inflating: data/nab/data/realAdExchange/._exchange-2_cpm_results.csv  \n",
      "  inflating: data/nab/data/realAdExchange/exchange-2_cpc_results.csv  \n",
      "  inflating: data/nab/data/realAdExchange/._exchange-2_cpc_results.csv  \n",
      "  inflating: data/nab/data/realAdExchange/exchange-4_cpc_results.csv  \n",
      "  inflating: data/nab/data/realAdExchange/._exchange-4_cpc_results.csv  \n",
      "  inflating: data/nab/data/realAdExchange/exchange-3_cpc_results.csv  \n",
      "  inflating: data/nab/data/realAdExchange/._exchange-3_cpc_results.csv  \n",
      "  inflating: data/nab/data/artificialNoAnomaly/art_daily_small_noise.csv  \n",
      "  inflating: data/nab/data/artificialNoAnomaly/._art_daily_small_noise.csv  \n",
      "  inflating: data/nab/data/artificialNoAnomaly/art_daily_perfect_square_wave.csv  \n",
      "  inflating: data/nab/data/artificialNoAnomaly/._art_daily_perfect_square_wave.csv  \n",
      "  inflating: data/nab/data/artificialNoAnomaly/art_noisy.csv  \n",
      "  inflating: data/nab/data/artificialNoAnomaly/._art_noisy.csv  \n",
      "  inflating: data/nab/data/artificialNoAnomaly/art_flatline.csv  \n",
      "  inflating: data/nab/data/artificialNoAnomaly/._art_flatline.csv  \n",
      "  inflating: data/nab/data/artificialNoAnomaly/art_daily_no_noise.csv  \n",
      "  inflating: data/nab/data/artificialNoAnomaly/._art_daily_no_noise.csv  \n",
      "  inflating: data/nab/data/realKnownCause/ambient_temperature_system_failure.csv  \n",
      "  inflating: data/nab/data/realKnownCause/._ambient_temperature_system_failure.csv  \n",
      "  inflating: data/nab/data/realKnownCause/machine_temperature_system_failure.csv  \n",
      "  inflating: data/nab/data/realKnownCause/._machine_temperature_system_failure.csv  \n",
      "  inflating: data/nab/data/realKnownCause/ec2_request_latency_system_failure.csv  \n",
      "  inflating: data/nab/data/realKnownCause/._ec2_request_latency_system_failure.csv  \n",
      "  inflating: data/nab/data/realKnownCause/rogue_agent_key_updown.csv  \n",
      "  inflating: data/nab/data/realKnownCause/._rogue_agent_key_updown.csv  \n",
      "  inflating: data/nab/data/realKnownCause/nyc_taxi.csv  \n",
      "  inflating: data/nab/data/realKnownCause/._nyc_taxi.csv  \n",
      "  inflating: data/nab/data/realKnownCause/cpu_utilization_asg_misconfiguration.csv  \n",
      "  inflating: data/nab/data/realKnownCause/._cpu_utilization_asg_misconfiguration.csv  \n",
      "  inflating: data/nab/data/realKnownCause/rogue_agent_key_hold.csv  \n",
      "  inflating: data/nab/data/realKnownCause/._rogue_agent_key_hold.csv  \n"
     ]
    },
    {
     "name": "stdout",
     "output_type": "stream",
     "text": [
      "'1. Problem and Data.ipynb'\t\t\t     README.md\r\n",
      "'2. Anomaly Detection as Density Estimation.ipynb'   assets\r\n",
      "'3. KDE for Anomaly Detection.ipynb'\t\t     data\r\n",
      "'4. Combining Observations.ipynb'\t\t     data.zip\r\n",
      "'5. Time-Dependent Estimator.ipynb'\t\t     docker-compose.yml\r\n",
      " Dockerfile\t\t\t\t\t     util\r\n",
      " LICENSE\r\n"
     ]
    }
   ],
   "source": [
    "!wget https://github.com/lompabo/aiiti-01-2021/releases/download/data/data.zip\n",
    "!unzip -o data.zip\n",
    "!ls ."
   ]
  },
  {
   "cell_type": "markdown",
   "metadata": {},
   "source": [
    "## Setup the Notebook\n",
    "\n",
    "Let's setup the notebook (we will repeat all previous steps for reference)"
   ]
  },
  {
   "cell_type": "code",
   "execution_count": 3,
   "metadata": {
    "slideshow": {
     "slide_type": "skip"
    }
   },
   "outputs": [
    {
     "name": "stdout",
     "output_type": "stream",
     "text": [
      "KDE bandwidth: 0.03476971577055476\n",
      "Fitting a KDE estimator\n",
      "Generating the alarm signal\n",
      "Optimizing the threshold\n",
      "Best threshold: 4.747474747474747\n",
      "Cost on the training set: 15\n",
      "Cost on the whole dataset 45\n"
     ]
    }
   ],
   "source": [
    "from sklearn.neighbors import KernelDensity\n",
    "from util import nab\n",
    "import numpy as np\n",
    "from matplotlib import pyplot as plt\n",
    "import pandas as pd\n",
    "import os\n",
    "data_folder = os.path.join('data', 'nab')\n",
    "file_name = os.path.join('realKnownCause', 'nyc_taxi.csv')\n",
    "data, labels, windows = nab.load_series(file_name, data_folder)\n",
    "\n",
    "# Train and validation end\n",
    "train_end = pd.to_datetime('2014-10-24 00:00:00')\n",
    "val_end = pd.to_datetime('2014-12-10 00:00:00')\n",
    "\n",
    "# Cost model parameters\n",
    "c_alrm = 1 # Cost of investigating a false alarm\n",
    "c_missed = 10 # Cost of missing an anomaly\n",
    "c_late = 5 # Cost for late detection\n",
    "\n",
    "# Compute the maximum over the training set\n",
    "trmax = data[data.index < train_end]['value'].max()\n",
    "# Normalize\n",
    "data['value'] = data['value'] / trmax\n",
    "# Separate the training data\n",
    "data_tr = data[data.index < train_end]\n",
    "\n",
    "# Compute the bandhwidth\n",
    "q1 = data_tr['value'].quantile(0.25)\n",
    "q3 = data_tr['value'].quantile(0.75)\n",
    "sigma = data_tr['value'].std()\n",
    "m =  len(data_tr)\n",
    "h = 0.9 * min(sigma, (q3-q1) / 1.34) * m**(-0.2)\n",
    "print(f'KDE bandwidth: {h}')\n",
    "\n",
    "# Build and fit a density estimator\n",
    "print('Fitting a KDE estimator')\n",
    "kde = KernelDensity(kernel='gaussian', bandwidth=h)\n",
    "kde.fit(data_tr)\n",
    "\n",
    "# Obtain the log probability density for all the data\n",
    "print('Generating the alarm signal')\n",
    "ldens = kde.score_samples(data)\n",
    "# Convert to a pandas series (add the time index)\n",
    "signal = pd.Series(index=data.index, data=-ldens)\n",
    "\n",
    "# Build a cost model\n",
    "cmodel = nab.ADSimpleCostModel(c_alrm, c_missed, c_late)\n",
    "\n",
    "# Separate train & validation set (for threshold optimization)\n",
    "signal_opt = signal[signal.index < val_end]\n",
    "labels_opt = labels[labels < val_end]\n",
    "windows_opt = windows[windows['end'] < val_end]\n",
    "thr_range = np.linspace(0, 10, 100)\n",
    "\n",
    "# Threshold optimization\n",
    "print('Optimizing the threshold')\n",
    "best_thr, best_cost = nab.opt_thr(signal_opt, labels_opt,\n",
    "                                  windows_opt,  cmodel, thr_range)\n",
    "print(f'Best threshold: {best_thr}')\n",
    "print(f'Cost on the training set: {best_cost}')\n",
    "ctst = cmodel.cost(signal, labels, windows, best_thr)\n",
    "print(f'Cost on the whole dataset {ctst}')"
   ]
  },
  {
   "cell_type": "markdown",
   "metadata": {
    "slideshow": {
     "slide_type": "subslide"
    }
   },
   "source": [
    "## Looking More Closely\n",
    "\n",
    "**Let us look again at our (normalized) data:**"
   ]
  },
  {
   "cell_type": "code",
   "execution_count": 4,
   "metadata": {},
   "outputs": [
    {
     "data": {
      "image/png": "[encoded data removed]",
      "text/plain": [
       "<Figure size 864x288 with 1 Axes>"
      ]
     },
     "metadata": {
      "needs_background": "light"
     },
     "output_type": "display_data"
    }
   ],
   "source": [
    "nab.plot_series(data)"
   ]
  },
  {
   "cell_type": "markdown",
   "metadata": {},
   "source": [
    "* There is a recurring pattern!\n",
    "* Can we take advantage of that?"
   ]
  },
  {
   "cell_type": "markdown",
   "metadata": {
    "slideshow": {
     "slide_type": "subslide"
    }
   },
   "source": [
    "## Analyzing the Pattern\n",
    "\n",
    "* Our signal is almost periodic\n",
    "* I.e. the pattern is _time-based_"
   ]
  },
  {
   "cell_type": "code",
   "execution_count": 5,
   "metadata": {},
   "outputs": [
    {
     "data": {
      "image/png": "[encoded data removed]",
      "text/plain": [
       "<Figure size 864x288 with 1 Axes>"
      ]
     },
     "metadata": {
      "needs_background": "light"
     },
     "output_type": "display_data"
    }
   ],
   "source": [
    "nab.plot_series(data.iloc[:100])"
   ]
  },
  {
   "cell_type": "markdown",
   "metadata": {
    "slideshow": {
     "slide_type": "subslide"
    }
   },
   "source": [
    "## Determine the Period\n",
    "\n",
    "**How to determine the period of a series?**\n",
    "\n",
    "A useful tool: _autocorrelation plots_\n",
    "\n",
    "* Consider a range of possible _lags_\n",
    "* For each lag value $l$:\n",
    "  - Make a copy of the series and shift it by $l$ time steps\n",
    "  - Compute the [Pearson Correlation Coefficient](https://en.wikipedia.org/wiki/Pearson_correlation_coefficient) with the original series\n",
    "* Plot the correlation coefficients over the lag values\n",
    "\n",
    "**Then we look at the resulting plot:**\n",
    "\n",
    "* If there are peaks corresponding to existing periods\n",
    "* Positive peaks denote strong correlations\n",
    "* Negative peaks denote strong negative correlations"
   ]
  },
  {
   "cell_type": "markdown",
   "metadata": {
    "slideshow": {
     "slide_type": "subslide"
    }
   },
   "source": [
    "## Determine the Period\n",
    "\n",
    "Let's see an autocorrelation plot for our data:"
   ]
  },
  {
   "cell_type": "code",
   "execution_count": 4,
   "metadata": {},
   "outputs": [
    {
     "data": {
      "image/png": "[encoded data removed]",
      "text/plain": [
       "<Figure size 864x288 with 1 Axes>"
      ]
     },
     "metadata": {
      "needs_background": "light"
     },
     "output_type": "display_data"
    }
   ],
   "source": [
    "nab.plot_autocorrelation(data, max_lag=100)"
   ]
  },
  {
   "cell_type": "markdown",
   "metadata": {},
   "source": [
    "* There is _strong peak at 48_\n",
    "* A time step is 30 minutes $\\Rightarrow$ there is a period of _24 hours_\n",
    "* We will disregard the horizontal bars"
   ]
  },
  {
   "cell_type": "markdown",
   "metadata": {
    "slideshow": {
     "slide_type": "subslide"
    }
   },
   "source": [
    "## Multivariate-Distribution\n",
    "\n",
    "**One way to look at that:**\n",
    "\n",
    "* The distribution depends on the time of the day\n",
    "* (Almost) equivalently: our $x$ variable has _two components_\n",
    "  - The first component $x_1$ is the time of the day\n",
    "  - The second component $x_2$ is the value\n",
    " \n",
    "**Let us extract (from the index) this new information:**"
   ]
  },
  {
   "cell_type": "code",
   "execution_count": 5,
   "metadata": {},
   "outputs": [],
   "source": [
    "dayhour = (data.index.hour + data.index.minute / 60)\n",
    "dayhour = dayhour / 23.5 # normalize"
   ]
  },
  {
   "cell_type": "markdown",
   "metadata": {},
   "source": [
    "We can then add it as a separate column to the data:"
   ]
  },
  {
   "cell_type": "code",
   "execution_count": 6,
   "metadata": {},
   "outputs": [],
   "source": [
    "data2 = data.copy()\n",
    "data2['dayhour'] = dayhour"
   ]
  },
  {
   "cell_type": "markdown",
   "metadata": {
    "slideshow": {
     "slide_type": "subslide"
    }
   },
   "source": [
    "## Multivariate Distribution\n",
    "\n",
    "**Let us examine the resulting multivariate distribution**\n",
    "\n",
    "We can use a 2D histogram:"
   ]
  },
  {
   "cell_type": "code",
   "execution_count": 7,
   "metadata": {},
   "outputs": [
    {
     "data": {
      "image/png": "[encoded data removed]",
      "text/plain": [
       "<Figure size 864x288 with 1 Axes>"
      ]
     },
     "metadata": {
      "needs_background": "light"
     },
     "output_type": "display_data"
    }
   ],
   "source": [
    "nab.plot_histogram2d(data2['dayhour'], data2['value'], bins=(48, 20))"
   ]
  },
  {
   "cell_type": "markdown",
   "metadata": {
    "slideshow": {
     "slide_type": "subslide"
    }
   },
   "source": [
    "## Multivariate Distribution\n",
    "\n",
    "**The distribution of the time component is approximately uniform:**"
   ]
  },
  {
   "cell_type": "code",
   "execution_count": 8,
   "metadata": {},
   "outputs": [
    {
     "data": {
      "image/png": "[encoded data removed]",
      "text/plain": [
       "<Figure size 864x288 with 1 Axes>"
      ]
     },
     "metadata": {
      "needs_background": "light"
     },
     "output_type": "display_data"
    }
   ],
   "source": [
    "nab.plot_histogram(data2['dayhour'], bins=48)"
   ]
  },
  {
   "cell_type": "markdown",
   "metadata": {
    "slideshow": {
     "slide_type": "subslide"
    }
   },
   "source": [
    "## Time-Dependent Estimator\n",
    "\n",
    "**We can use this information to build a time-dependent estimator**\n",
    "\n",
    "When we run the the estimator:\n",
    "\n",
    "* The time component (i.e. $x_1$) is completely predictable\n",
    "* The value component (i.e. $x_2$) may be anomalous\n",
    "\n",
    "Hence, we can define our anomaly condition as:\n",
    "\n",
    "$$\n",
    "P(x_2 \\mid x_1) \\leq \\theta\n",
    "$$\n",
    "\n",
    "Using the definition of conditional probability:\n",
    "\n",
    "$$\n",
    "\\frac{P(x_2, x_1)}{P(x_1)} \\leq \\theta\n",
    "$$"
   ]
  },
  {
   "cell_type": "markdown",
   "metadata": {
    "slideshow": {
     "slide_type": "subslide"
    }
   },
   "source": [
    "## Time-Dependent Estimator\n",
    "\n",
    "**$P(x_1)$ can be incorporated in the threshold**\n",
    "\n",
    "...Since it is uniformly distributed:\n",
    "\n",
    "$$\n",
    "P(x_2, x_1) \\leq \\theta^\\prime\n",
    "$$\n",
    "\n",
    "* Where $\\theta^\\prime = \\theta P(x_1)$\n",
    "\n",
    "**KDE cannot learn natively conditional probabilities**\n",
    "\n",
    "If we need to use them anyway, there are two strategies:\n",
    "\n",
    "* Using the Bayes theorem (like we did)\n",
    "  - In the general case, we will need a second estimator for $P(x_1)$\n",
    "* If $x_1$ is _discrete_, we can learn a KDE estimator for each $x_1$ value\n"
   ]
  },
  {
   "cell_type": "markdown",
   "metadata": {
    "slideshow": {
     "slide_type": "subslide"
    }
   },
   "source": [
    "## Bandwidth Choice in Multivariate KDE\n",
    "\n",
    "**We now need to learn our multivariate KDE estimator**\n",
    "\n",
    "First, we need to choose a bandwidth\n",
    "\n",
    "* We cannot use the (univariate) rule of thumb\n",
    "* ...But we can use another technique\n",
    "\n",
    "**Let $\\tilde{x}$ be a _validation_ set of $m$ examples:**\n",
    "\n",
    "Assuming independent observations, its likelihood (estimated probability) is:\n",
    "\n",
    "$$L(\\tilde{\\bf x}, \\hat{\\bf x}, h) = \\prod_{i=1}^m f(\\tilde{x}_i, \\hat{\\bf x}, h)$$\n",
    "\n",
    "* $f$ is the estimator, $\\hat{\\bf x}$ the training set, $h$ is the bandwidth\n",
    "* We can choose $h$ so as to optimize the likelihood!\n"
   ]
  },
  {
   "cell_type": "markdown",
   "metadata": {
    "slideshow": {
     "slide_type": "subslide"
    }
   },
   "source": [
    "## Bandwidth Choice in Multivariate KDE\n",
    "\n",
    "**A simple approach consist in using grid search**\n",
    "\n",
    "* It's the same approach that we used for optimizing the threshold\n",
    "* scikit learn provides a convenient implementation\n",
    "* ...Which resorts to cross-fold validation to define $\\tilde{x}$\n",
    "\n",
    "First, we build a grid search optimizer:"
   ]
  },
  {
   "cell_type": "code",
   "execution_count": 9,
   "metadata": {},
   "outputs": [],
   "source": [
    "from sklearn.model_selection import GridSearchCV\n",
    "\n",
    "# Build the grid search optimizer\n",
    "params = {'bandwidth': np.linspace(0.001, 0.01, 10)}\n",
    "opt = GridSearchCV(KernelDensity(kernel='gaussian'), params, cv=5)"
   ]
  },
  {
   "cell_type": "markdown",
   "metadata": {},
   "source": [
    "* The first argument of `GridSearchCV` is the (type of) estimator\n",
    "* The `params` dictionary specifies the range to be explored\n",
    "* `cv = 5` specifies the number folds for cross-validation"
   ]
  },
  {
   "cell_type": "markdown",
   "metadata": {
    "slideshow": {
     "slide_type": "subslide"
    }
   },
   "source": [
    "## Bandwidth Choice in Multivariate KDE\n",
    "\n",
    "**Next, we:**\n",
    "\n",
    "* Separate the training set\n",
    "* \"Fit\" the `GridSearchCV`, which will run the optimization loop"
   ]
  },
  {
   "cell_type": "code",
   "execution_count": 10,
   "metadata": {},
   "outputs": [],
   "source": [
    "# Split training data\n",
    "data2_tr = data2[data2.index < train_end]\n",
    "opt.fit(data2_tr);"
   ]
  },
  {
   "cell_type": "markdown",
   "metadata": {},
   "source": [
    "Then we can access the best parameters with:"
   ]
  },
  {
   "cell_type": "code",
   "execution_count": 11,
   "metadata": {},
   "outputs": [
    {
     "data": {
      "text/plain": [
       "{'bandwidth': 0.006}"
      ]
     },
     "execution_count": 11,
     "metadata": {},
     "output_type": "execute_result"
    }
   ],
   "source": [
    "opt.best_params_"
   ]
  },
  {
   "cell_type": "markdown",
   "metadata": {
    "slideshow": {
     "slide_type": "subslide"
    }
   },
   "source": [
    "## Fitting the Estimator\n",
    "\n",
    "**Finally, we can fit the estimator**"
   ]
  },
  {
   "cell_type": "code",
   "execution_count": 12,
   "metadata": {},
   "outputs": [
    {
     "data": {
      "image/png": "[encoded data removed]",
      "text/plain": [
       "<Figure size 864x288 with 1 Axes>"
      ]
     },
     "metadata": {
      "needs_background": "light"
     },
     "output_type": "display_data"
    }
   ],
   "source": [
    "h = opt.best_params_['bandwidth']\n",
    "kde2 = KernelDensity(kernel='gaussian', bandwidth=h)\n",
    "kde2.fit(data2_tr)\n",
    "\n",
    "xr = np.linspace(0, 1, 48)\n",
    "yr = np.linspace(0, 1, 48)\n",
    "nab.plot_density_estimator_2D(kde2, xr, yr)"
   ]
  },
  {
   "cell_type": "markdown",
   "metadata": {
    "slideshow": {
     "slide_type": "subslide"
    }
   },
   "source": [
    "## Alarm Signal\n",
    "\n",
    "**Let us obtain the alarm signal**"
   ]
  },
  {
   "cell_type": "code",
   "execution_count": 13,
   "metadata": {},
   "outputs": [
    {
     "data": {
      "image/png": "[encoded data removed]",
      "text/plain": [
       "<Figure size 864x288 with 1 Axes>"
      ]
     },
     "metadata": {
      "needs_background": "light"
     },
     "output_type": "display_data"
    }
   ],
   "source": [
    "ldens2 = kde2.score_samples(data2)\n",
    "signal2 = pd.Series(index=data2.index, data=-ldens2)\n",
    "nab.plot_series(signal2, labels=labels, windows=windows)"
   ]
  },
  {
   "cell_type": "markdown",
   "metadata": {
    "slideshow": {
     "slide_type": "subslide"
    }
   },
   "source": [
    "## Effect of the Threshold\n",
    "\n",
    "**Let us see the response surface w.r.t. the threshold**"
   ]
  },
  {
   "cell_type": "code",
   "execution_count": 14,
   "metadata": {},
   "outputs": [
    {
     "data": {
      "image/png": "[encoded data removed]",
      "text/plain": [
       "<Figure size 864x288 with 1 Axes>"
      ]
     },
     "metadata": {
      "needs_background": "light"
     },
     "output_type": "display_data"
    }
   ],
   "source": [
    "thr2_range = np.linspace(10, 50, 100)\n",
    "cost2_range = [cmodel.cost(signal2, labels, windows, thr)\n",
    "              for thr in thr2_range]\n",
    "cost2_range = pd.Series(index=thr2_range, data=cost2_range)\n",
    "nab.plot_series(cost2_range)"
   ]
  },
  {
   "cell_type": "markdown",
   "metadata": {},
   "source": [
    "This is _considerably better_ than before!"
   ]
  },
  {
   "cell_type": "markdown",
   "metadata": {
    "slideshow": {
     "slide_type": "subslide"
    }
   },
   "source": [
    "## Threshold Optimization\n",
    "\n",
    "**Now, let us optimize our threshold:**"
   ]
  },
  {
   "cell_type": "code",
   "execution_count": 15,
   "metadata": {},
   "outputs": [
    {
     "name": "stdout",
     "output_type": "stream",
     "text": [
      "Best threshold: 25.757575757575758, corresponding cost: 9\n"
     ]
    }
   ],
   "source": [
    "signal2_opt = signal2[signal2.index < val_end]\n",
    "best_thr2, best_cost2 = nab.opt_thr(signal2_opt, labels_opt,\n",
    "                                  windows_opt,  cmodel, thr2_range)\n",
    "print(f'Best threshold: {best_thr2}, corresponding cost: {best_cost2}')"
   ]
  },
  {
   "cell_type": "markdown",
   "metadata": {},
   "source": [
    "On the whole dataset:"
   ]
  },
  {
   "cell_type": "code",
   "execution_count": 16,
   "metadata": {},
   "outputs": [
    {
     "name": "stdout",
     "output_type": "stream",
     "text": [
      "Cost on the whole dataset 20\n"
     ]
    }
   ],
   "source": [
    "c2tst = cmodel.cost(signal2, labels, windows, best_thr2)\n",
    "print(f'Cost on the whole dataset {c2tst}')"
   ]
  },
  {
   "cell_type": "markdown",
   "metadata": {},
   "source": [
    "* It was 45 for the first approach and 37 for the second"
   ]
  },
  {
   "cell_type": "markdown",
   "metadata": {
    "slideshow": {
     "slide_type": "subslide"
    }
   },
   "source": [
    "## Considerations\n",
    "\n",
    "**Time-dependencies in the data should be exploited**\n",
    "\n",
    "* We always know what time it is: it's _free information_!\n",
    "* Additional information can be used to improve our predictions\n",
    "* In fact, our time dependent estimator is based on a _conditional_ probability\n",
    "\n",
    "**_Open Problem:_ There is a second period in the data**\n",
    "\n",
    "* Can you figure out which one?\n",
    "* How to exploit it?\n",
    "\n",
    "_If you wish_, you can investigate this at home\n",
    "\n",
    "* There will be no evaluation\n",
    "* ...But it's a good occasion to practice and learn"
   ]
  }
 ],
 "metadata": {
  "celltoolbar": "Slideshow",
  "kernelspec": {
   "display_name": "Python 3",
   "language": "python",
   "name": "python3"
  },
  "language_info": {
   "codemirror_mode": {
    "name": "ipython",
    "version": 3
   },
   "file_extension": ".py",
   "mimetype": "text/x-python",
   "name": "python",
   "nbconvert_exporter": "python",
   "pygments_lexer": "ipython3",
   "version": "3.8.10"
  },
  "rise": {
   "center": false,
   "transition": "fade"
  },
  "widgets": {
   "application/vnd.jupyter.widget-state+json": {
    "state": {
     "020459570dde406f90bb52ecff26485a": {
      "model_module": "@jupyter-widgets/base",
      "model_module_version": "1.2.0",
      "model_name": "LayoutModel",
      "state": {}
     },
     "038df7cd3ac244d7bf3d4a509fa47543": {
      "model_module": "@jupyter-widgets/base",
      "model_module_version": "1.2.0",
      "model_name": "LayoutModel",
      "state": {}
     },
     "05015906e19841598068f9df602f9b61": {
      "model_module": "@jupyter-widgets/base",
      "model_module_version": "1.2.0",
      "model_name": "LayoutModel",
      "state": {}
     },
     "0a59c0fa095b4104894b779b8f7975b4": {
      "model_module": "@jupyter-widgets/base",
      "model_module_version": "1.2.0",
      "model_name": "LayoutModel",
      "state": {}
     },
     "0f142f46330d4ee990806e28529e5eb2": {
      "model_module": "@jupyter-widgets/base",
      "model_module_version": "1.2.0",
      "model_name": "LayoutModel",
      "state": {}
     },
     "13e376950bf441da86849afa75b3fc21": {
      "model_module": "@jupyter-widgets/base",
      "model_module_version": "1.2.0",
      "model_name": "LayoutModel",
      "state": {}
     },
     "179086084972444780982089925b2eea": {
      "model_module": "@jupyter-widgets/base",
      "model_module_version": "1.2.0",
      "model_name": "LayoutModel",
      "state": {}
     },
     "1c8225cc222f453dafd52599aede22fb": {
      "model_module": "@jupyter-widgets/base",
      "model_module_version": "1.2.0",
      "model_name": "LayoutModel",
      "state": {}
     },
     "1df2012e9ef042dda3813f71d071ba8a": {
      "model_module": "jupyter-matplotlib",
      "model_module_version": "^0.7.4",
      "model_name": "ToolbarModel",
      "state": {
       "layout": "IPY_MODEL_84557f78c27d4c6291ecdb2eab058e17",
       "toolitems": [
        [
         "Home",
         "Reset original view",
         "home",
         "home"
        ],
        [
         "Back",
         "Back to previous view",
         "arrow-left",
         "back"
        ],
        [
         "Forward",
         "Forward to next view",
         "arrow-right",
         "forward"
        ],
        [
         "Pan",
         "Left button pans, Right button zooms\nx/y fixes axis, CTRL fixes aspect",
         "arrows",
         "pan"
        ],
        [
         "Zoom",
         "Zoom to rectangle\nx/y fixes axis, CTRL fixes aspect",
         "square-o",
         "zoom"
        ],
        [
         "Download",
         "Download plot",
         "floppy-o",
         "save_figure"
        ]
       ]
      }
     },
     "1fe9a8a0cbb14e50bbcea1ca4fb77490": {
      "model_module": "@jupyter-widgets/base",
      "model_module_version": "1.2.0",
      "model_name": "LayoutModel",
      "state": {}
     },
     "20b62bddc0f04dd884bb853b59cac0b7": {
      "model_module": "jupyter-matplotlib",
      "model_module_version": "^0.7.4",
      "model_name": "ToolbarModel",
      "state": {
       "layout": "IPY_MODEL_3ca2e35cb2924844a8747c476ad70dbb",
       "toolitems": [
        [
         "Home",
         "Reset original view",
         "home",
         "home"
        ],
        [
         "Back",
         "Back to previous view",
         "arrow-left",
         "back"
        ],
        [
         "Forward",
         "Forward to next view",
         "arrow-right",
         "forward"
        ],
        [
         "Pan",
         "Left button pans, Right button zooms\nx/y fixes axis, CTRL fixes aspect",
         "arrows",
         "pan"
        ],
        [
         "Zoom",
         "Zoom to rectangle\nx/y fixes axis, CTRL fixes aspect",
         "square-o",
         "zoom"
        ],
        [
         "Download",
         "Download plot",
         "floppy-o",
         "save_figure"
        ]
       ]
      }
     },
     "21e6d5b119af4a60a7d5a08e352bbcb5": {
      "model_module": "jupyter-matplotlib",
      "model_module_version": "^0.7.4",
      "model_name": "ToolbarModel",
      "state": {
       "layout": "IPY_MODEL_020459570dde406f90bb52ecff26485a",
       "toolitems": [
        [
         "Home",
         "Reset original view",
         "home",
         "home"
        ],
        [
         "Back",
         "Back to previous view",
         "arrow-left",
         "back"
        ],
        [
         "Forward",
         "Forward to next view",
         "arrow-right",
         "forward"
        ],
        [
         "Pan",
         "Left button pans, Right button zooms\nx/y fixes axis, CTRL fixes aspect",
         "arrows",
         "pan"
        ],
        [
         "Zoom",
         "Zoom to rectangle\nx/y fixes axis, CTRL fixes aspect",
         "square-o",
         "zoom"
        ],
        [
         "Download",
         "Download plot",
         "floppy-o",
         "save_figure"
        ]
       ]
      }
     },
     "23da3438693b4e83b1d051b8f919b58a": {
      "model_module": "@jupyter-widgets/base",
      "model_module_version": "1.2.0",
      "model_name": "LayoutModel",
      "state": {}
     },
     "2c33db155e39470a9022df2af2ac5b58": {
      "model_module": "@jupyter-widgets/base",
      "model_module_version": "1.2.0",
      "model_name": "LayoutModel",
      "state": {}
     },
     "2c619da67db0443d9fad493c5b5d6129": {
      "model_module": "jupyter-matplotlib",
      "model_module_version": "^0.7.4",
      "model_name": "ToolbarModel",
      "state": {
       "layout": "IPY_MODEL_91fdaf1ad9eb4a3fa33f10b8b8a9e01e",
       "toolitems": [
        [
         "Home",
         "Reset original view",
         "home",
         "home"
        ],
        [
         "Back",
         "Back to previous view",
         "arrow-left",
         "back"
        ],
        [
         "Forward",
         "Forward to next view",
         "arrow-right",
         "forward"
        ],
        [
         "Pan",
         "Left button pans, Right button zooms\nx/y fixes axis, CTRL fixes aspect",
         "arrows",
         "pan"
        ],
        [
         "Zoom",
         "Zoom to rectangle\nx/y fixes axis, CTRL fixes aspect",
         "square-o",
         "zoom"
        ],
        [
         "Download",
         "Download plot",
         "floppy-o",
         "save_figure"
        ]
       ]
      }
     },
     "2d3590440c2b48429a500d82c8bb3e62": {
      "model_module": "@jupyter-widgets/base",
      "model_module_version": "1.2.0",
      "model_name": "LayoutModel",
      "state": {}
     },
     "343ce3bf0c9a47ef9994ce7b8433eedb": {
      "model_module": "@jupyter-widgets/base",
      "model_module_version": "1.2.0",
      "model_name": "LayoutModel",
      "state": {}
     },
     "36cae0d2d335473ea7ca8c5148159899": {
      "model_module": "@jupyter-widgets/base",
      "model_module_version": "1.2.0",
      "model_name": "LayoutModel",
      "state": {}
     },
     "370226d39e6a45ff9584d5116e0b92b7": {
      "model_module": "jupyter-matplotlib",
      "model_module_version": "^0.7.4",
      "model_name": "ToolbarModel",
      "state": {
       "layout": "IPY_MODEL_4a9adf0db28547cfbd8e9ad9e68b5a3f",
       "toolitems": [
        [
         "Home",
         "Reset original view",
         "home",
         "home"
        ],
        [
         "Back",
         "Back to previous view",
         "arrow-left",
         "back"
        ],
        [
         "Forward",
         "Forward to next view",
         "arrow-right",
         "forward"
        ],
        [
         "Pan",
         "Left button pans, Right button zooms\nx/y fixes axis, CTRL fixes aspect",
         "arrows",
         "pan"
        ],
        [
         "Zoom",
         "Zoom to rectangle\nx/y fixes axis, CTRL fixes aspect",
         "square-o",
         "zoom"
        ],
        [
         "Download",
         "Download plot",
         "floppy-o",
         "save_figure"
        ]
       ]
      }
     },
     "3ca2e35cb2924844a8747c476ad70dbb": {
      "model_module": "@jupyter-widgets/base",
      "model_module_version": "1.2.0",
      "model_name": "LayoutModel",
      "state": {}
     },
     "3ddd3c6bbe914c478d1986f6c8b59018": {
      "model_module": "jupyter-matplotlib",
      "model_module_version": "^0.7.4",
      "model_name": "ToolbarModel",
      "state": {
       "layout": "IPY_MODEL_60a257abc3e3456ab44f1a55801938cd",
       "toolitems": [
        [
         "Home",
         "Reset original view",
         "home",
         "home"
        ],
        [
         "Back",
         "Back to previous view",
         "arrow-left",
         "back"
        ],
        [
         "Forward",
         "Forward to next view",
         "arrow-right",
         "forward"
        ],
        [
         "Pan",
         "Left button pans, Right button zooms\nx/y fixes axis, CTRL fixes aspect",
         "arrows",
         "pan"
        ],
        [
         "Zoom",
         "Zoom to rectangle\nx/y fixes axis, CTRL fixes aspect",
         "square-o",
         "zoom"
        ],
        [
         "Download",
         "Download plot",
         "floppy-o",
         "save_figure"
        ]
       ]
      }
     },
     "45a1540ac84b4722b8fb5c8e0227ee38": {
      "model_module": "@jupyter-widgets/base",
      "model_module_version": "1.2.0",
      "model_name": "LayoutModel",
      "state": {}
     },
     "4a9adf0db28547cfbd8e9ad9e68b5a3f": {
      "model_module": "@jupyter-widgets/base",
      "model_module_version": "1.2.0",
      "model_name": "LayoutModel",
      "state": {}
     },
     "4b450369e4dd4a509f7e130c8b2c5a3d": {
      "model_module": "@jupyter-widgets/base",
      "model_module_version": "1.2.0",
      "model_name": "LayoutModel",
      "state": {}
     },
     "60a257abc3e3456ab44f1a55801938cd": {
      "model_module": "@jupyter-widgets/base",
      "model_module_version": "1.2.0",
      "model_name": "LayoutModel",
      "state": {}
     },
     "61d6f1e3240c4446910694d49f28053a": {
      "model_module": "jupyter-matplotlib",
      "model_module_version": "^0.7.4",
      "model_name": "ToolbarModel",
      "state": {
       "layout": "IPY_MODEL_aa8cd215a1484d61a6f007a615d3815c",
       "toolitems": [
        [
         "Home",
         "Reset original view",
         "home",
         "home"
        ],
        [
         "Back",
         "Back to previous view",
         "arrow-left",
         "back"
        ],
        [
         "Forward",
         "Forward to next view",
         "arrow-right",
         "forward"
        ],
        [
         "Pan",
         "Left button pans, Right button zooms\nx/y fixes axis, CTRL fixes aspect",
         "arrows",
         "pan"
        ],
        [
         "Zoom",
         "Zoom to rectangle\nx/y fixes axis, CTRL fixes aspect",
         "square-o",
         "zoom"
        ],
        [
         "Download",
         "Download plot",
         "floppy-o",
         "save_figure"
        ]
       ]
      }
     },
     "621a0fabc02e4dfcadb7404c7c97be43": {
      "model_module": "jupyter-matplotlib",
      "model_module_version": "^0.7.4",
      "model_name": "ToolbarModel",
      "state": {
       "layout": "IPY_MODEL_2c33db155e39470a9022df2af2ac5b58",
       "toolitems": [
        [
         "Home",
         "Reset original view",
         "home",
         "home"
        ],
        [
         "Back",
         "Back to previous view",
         "arrow-left",
         "back"
        ],
        [
         "Forward",
         "Forward to next view",
         "arrow-right",
         "forward"
        ],
        [
         "Pan",
         "Left button pans, Right button zooms\nx/y fixes axis, CTRL fixes aspect",
         "arrows",
         "pan"
        ],
        [
         "Zoom",
         "Zoom to rectangle\nx/y fixes axis, CTRL fixes aspect",
         "square-o",
         "zoom"
        ],
        [
         "Download",
         "Download plot",
         "floppy-o",
         "save_figure"
        ]
       ]
      }
     },
     "627ab0f07087474cac7bc884af0080fa": {
      "model_module": "@jupyter-widgets/base",
      "model_module_version": "1.2.0",
      "model_name": "LayoutModel",
      "state": {}
     },
     "637751f787dd47cd9cb2c83a56298954": {
      "model_module": "jupyter-matplotlib",
      "model_module_version": "^0.7.4",
      "model_name": "ToolbarModel",
      "state": {
       "layout": "IPY_MODEL_dcc9cc730ce6455ab70d74ca6e77af30",
       "toolitems": [
        [
         "Home",
         "Reset original view",
         "home",
         "home"
        ],
        [
         "Back",
         "Back to previous view",
         "arrow-left",
         "back"
        ],
        [
         "Forward",
         "Forward to next view",
         "arrow-right",
         "forward"
        ],
        [
         "Pan",
         "Left button pans, Right button zooms\nx/y fixes axis, CTRL fixes aspect",
         "arrows",
         "pan"
        ],
        [
         "Zoom",
         "Zoom to rectangle\nx/y fixes axis, CTRL fixes aspect",
         "square-o",
         "zoom"
        ],
        [
         "Download",
         "Download plot",
         "floppy-o",
         "save_figure"
        ]
       ]
      }
     },
     "639c0591f93b4ba3917f2bb4b773afbf": {
      "model_module": "jupyter-matplotlib",
      "model_module_version": "^0.7.4",
      "model_name": "ToolbarModel",
      "state": {
       "layout": "IPY_MODEL_7b50a9bd225840e4a2f314fe2fc2514b",
       "toolitems": [
        [
         "Home",
         "Reset original view",
         "home",
         "home"
        ],
        [
         "Back",
         "Back to previous view",
         "arrow-left",
         "back"
        ],
        [
         "Forward",
         "Forward to next view",
         "arrow-right",
         "forward"
        ],
        [
         "Pan",
         "Left button pans, Right button zooms\nx/y fixes axis, CTRL fixes aspect",
         "arrows",
         "pan"
        ],
        [
         "Zoom",
         "Zoom to rectangle\nx/y fixes axis, CTRL fixes aspect",
         "square-o",
         "zoom"
        ],
        [
         "Download",
         "Download plot",
         "floppy-o",
         "save_figure"
        ]
       ]
      }
     },
     "66087d595b774e10b4b8c3bdf216a567": {
      "model_module": "@jupyter-widgets/base",
      "model_module_version": "1.2.0",
      "model_name": "LayoutModel",
      "state": {}
     },
     "687e55f766f0491aa98fcb40e9c8aeaf": {
      "model_module": "@jupyter-widgets/base",
      "model_module_version": "1.2.0",
      "model_name": "LayoutModel",
      "state": {}
     },
     "71c030a57cbe4e128208e65073492ed0": {
      "model_module": "@jupyter-widgets/base",
      "model_module_version": "1.2.0",
      "model_name": "LayoutModel",
      "state": {}
     },
     "7b50a9bd225840e4a2f314fe2fc2514b": {
      "model_module": "@jupyter-widgets/base",
      "model_module_version": "1.2.0",
      "model_name": "LayoutModel",
      "state": {}
     },
     "810ce2127f5942939d58f44254eb21bc": {
      "model_module": "@jupyter-widgets/base",
      "model_module_version": "1.2.0",
      "model_name": "LayoutModel",
      "state": {}
     },
     "84557f78c27d4c6291ecdb2eab058e17": {
      "model_module": "@jupyter-widgets/base",
      "model_module_version": "1.2.0",
      "model_name": "LayoutModel",
      "state": {}
     },
     "91fdaf1ad9eb4a3fa33f10b8b8a9e01e": {
      "model_module": "@jupyter-widgets/base",
      "model_module_version": "1.2.0",
      "model_name": "LayoutModel",
      "state": {}
     },
     "aa8cd215a1484d61a6f007a615d3815c": {
      "model_module": "@jupyter-widgets/base",
      "model_module_version": "1.2.0",
      "model_name": "LayoutModel",
      "state": {}
     },
     "acbfe0b9d3e940c09e4a7c5abc40f18f": {
      "model_module": "jupyter-matplotlib",
      "model_module_version": "^0.7.4",
      "model_name": "ToolbarModel",
      "state": {
       "layout": "IPY_MODEL_f98d7a163832408586360bde1c58819e",
       "toolitems": [
        [
         "Home",
         "Reset original view",
         "home",
         "home"
        ],
        [
         "Back",
         "Back to previous view",
         "arrow-left",
         "back"
        ],
        [
         "Forward",
         "Forward to next view",
         "arrow-right",
         "forward"
        ],
        [
         "Pan",
         "Left button pans, Right button zooms\nx/y fixes axis, CTRL fixes aspect",
         "arrows",
         "pan"
        ],
        [
         "Zoom",
         "Zoom to rectangle\nx/y fixes axis, CTRL fixes aspect",
         "square-o",
         "zoom"
        ],
        [
         "Download",
         "Download plot",
         "floppy-o",
         "save_figure"
        ]
       ]
      }
     },
     "b10c0a54a98a43f483901fddb9172966": {
      "model_module": "jupyter-matplotlib",
      "model_module_version": "^0.7.4",
      "model_name": "ToolbarModel",
      "state": {
       "layout": "IPY_MODEL_fb260c16469d44279e9aa82175d0d522",
       "toolitems": [
        [
         "Home",
         "Reset original view",
         "home",
         "home"
        ],
        [
         "Back",
         "Back to previous view",
         "arrow-left",
         "back"
        ],
        [
         "Forward",
         "Forward to next view",
         "arrow-right",
         "forward"
        ],
        [
         "Pan",
         "Left button pans, Right button zooms\nx/y fixes axis, CTRL fixes aspect",
         "arrows",
         "pan"
        ],
        [
         "Zoom",
         "Zoom to rectangle\nx/y fixes axis, CTRL fixes aspect",
         "square-o",
         "zoom"
        ],
        [
         "Download",
         "Download plot",
         "floppy-o",
         "save_figure"
        ]
       ]
      }
     },
     "c0c4747ca9924ff5b08bc8c35fbf6126": {
      "model_module": "@jupyter-widgets/base",
      "model_module_version": "1.2.0",
      "model_name": "LayoutModel",
      "state": {}
     },
     "d187eb47d6664dee9284aaad0fe519df": {
      "model_module": "jupyter-matplotlib",
      "model_module_version": "^0.7.4",
      "model_name": "ToolbarModel",
      "state": {
       "layout": "IPY_MODEL_36cae0d2d335473ea7ca8c5148159899",
       "toolitems": [
        [
         "Home",
         "Reset original view",
         "home",
         "home"
        ],
        [
         "Back",
         "Back to previous view",
         "arrow-left",
         "back"
        ],
        [
         "Forward",
         "Forward to next view",
         "arrow-right",
         "forward"
        ],
        [
         "Pan",
         "Left button pans, Right button zooms\nx/y fixes axis, CTRL fixes aspect",
         "arrows",
         "pan"
        ],
        [
         "Zoom",
         "Zoom to rectangle\nx/y fixes axis, CTRL fixes aspect",
         "square-o",
         "zoom"
        ],
        [
         "Download",
         "Download plot",
         "floppy-o",
         "save_figure"
        ]
       ]
      }
     },
     "da26d1506c8946a0a39c7f724bc8be54": {
      "model_module": "jupyter-matplotlib",
      "model_module_version": "^0.7.4",
      "model_name": "ToolbarModel",
      "state": {
       "layout": "IPY_MODEL_810ce2127f5942939d58f44254eb21bc",
       "toolitems": [
        [
         "Home",
         "Reset original view",
         "home",
         "home"
        ],
        [
         "Back",
         "Back to previous view",
         "arrow-left",
         "back"
        ],
        [
         "Forward",
         "Forward to next view",
         "arrow-right",
         "forward"
        ],
        [
         "Pan",
         "Left button pans, Right button zooms\nx/y fixes axis, CTRL fixes aspect",
         "arrows",
         "pan"
        ],
        [
         "Zoom",
         "Zoom to rectangle\nx/y fixes axis, CTRL fixes aspect",
         "square-o",
         "zoom"
        ],
        [
         "Download",
         "Download plot",
         "floppy-o",
         "save_figure"
        ]
       ]
      }
     },
     "dcc9cc730ce6455ab70d74ca6e77af30": {
      "model_module": "@jupyter-widgets/base",
      "model_module_version": "1.2.0",
      "model_name": "LayoutModel",
      "state": {}
     },
     "dce1c20152d1462383f546b3effc4924": {
      "model_module": "jupyter-matplotlib",
      "model_module_version": "^0.7.4",
      "model_name": "ToolbarModel",
      "state": {
       "layout": "IPY_MODEL_179086084972444780982089925b2eea",
       "toolitems": [
        [
         "Home",
         "Reset original view",
         "home",
         "home"
        ],
        [
         "Back",
         "Back to previous view",
         "arrow-left",
         "back"
        ],
        [
         "Forward",
         "Forward to next view",
         "arrow-right",
         "forward"
        ],
        [
         "Pan",
         "Left button pans, Right button zooms\nx/y fixes axis, CTRL fixes aspect",
         "arrows",
         "pan"
        ],
        [
         "Zoom",
         "Zoom to rectangle\nx/y fixes axis, CTRL fixes aspect",
         "square-o",
         "zoom"
        ],
        [
         "Download",
         "Download plot",
         "floppy-o",
         "save_figure"
        ]
       ]
      }
     },
     "ddee61e191b6495ea13c76bd088e1879": {
      "model_module": "@jupyter-widgets/base",
      "model_module_version": "1.2.0",
      "model_name": "LayoutModel",
      "state": {}
     },
     "dfe8fa92755944cbad38ad5679952608": {
      "model_module": "jupyter-matplotlib",
      "model_module_version": "^0.7.4",
      "model_name": "ToolbarModel",
      "state": {
       "layout": "IPY_MODEL_ddee61e191b6495ea13c76bd088e1879",
       "toolitems": [
        [
         "Home",
         "Reset original view",
         "home",
         "home"
        ],
        [
         "Back",
         "Back to previous view",
         "arrow-left",
         "back"
        ],
        [
         "Forward",
         "Forward to next view",
         "arrow-right",
         "forward"
        ],
        [
         "Pan",
         "Left button pans, Right button zooms\nx/y fixes axis, CTRL fixes aspect",
         "arrows",
         "pan"
        ],
        [
         "Zoom",
         "Zoom to rectangle\nx/y fixes axis, CTRL fixes aspect",
         "square-o",
         "zoom"
        ],
        [
         "Download",
         "Download plot",
         "floppy-o",
         "save_figure"
        ]
       ]
      }
     },
     "ebff75efbf66450096290f46a6170196": {
      "model_module": "@jupyter-widgets/base",
      "model_module_version": "1.2.0",
      "model_name": "LayoutModel",
      "state": {}
     },
     "ec6c14f32993409fa41378c8e4646156": {
      "model_module": "jupyter-matplotlib",
      "model_module_version": "^0.7.4",
      "model_name": "ToolbarModel",
      "state": {
       "layout": "IPY_MODEL_687e55f766f0491aa98fcb40e9c8aeaf",
       "toolitems": [
        [
         "Home",
         "Reset original view",
         "home",
         "home"
        ],
        [
         "Back",
         "Back to previous view",
         "arrow-left",
         "back"
        ],
        [
         "Forward",
         "Forward to next view",
         "arrow-right",
         "forward"
        ],
        [
         "Pan",
         "Left button pans, Right button zooms\nx/y fixes axis, CTRL fixes aspect",
         "arrows",
         "pan"
        ],
        [
         "Zoom",
         "Zoom to rectangle\nx/y fixes axis, CTRL fixes aspect",
         "square-o",
         "zoom"
        ],
        [
         "Download",
         "Download plot",
         "floppy-o",
         "save_figure"
        ]
       ]
      }
     },
     "f98d7a163832408586360bde1c58819e": {
      "model_module": "@jupyter-widgets/base",
      "model_module_version": "1.2.0",
      "model_name": "LayoutModel",
      "state": {}
     },
     "fb260c16469d44279e9aa82175d0d522": {
      "model_module": "@jupyter-widgets/base",
      "model_module_version": "1.2.0",
      "model_name": "LayoutModel",
      "state": {}
     }
    },
    "version_major": 2,
    "version_minor": 0
   }
  }
 },
 "nbformat": 4,
 "nbformat_minor": 4
}
